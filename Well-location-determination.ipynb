{
 "cells": [
  {
   "cell_type": "markdown",
   "id": "c6372882",
   "metadata": {},
   "source": [
    "# Выбор локации для скважины"
   ]
  },
  {
   "cell_type": "markdown",
   "id": "ad73b26c",
   "metadata": {},
   "source": [
    "## Введение"
   ]
  },
  {
   "cell_type": "markdown",
   "id": "6f1400a6",
   "metadata": {},
   "source": [
    "Данное исследование проводится с целью определение региона, добыча нефти в котором потенциально принесет наибольшую прибыль компании ГлавРосГосНефть. В ходе работы над исследованием с помощью модели линейной регрессии будет предсказан объем запасов в скважинах для каждого региона, после чего будет рассчитан объём сырья, достаточный для безубыточной разработки новой скважины. Далее будут выбраны наиболее перспективные с точки зрения объема сырья скважины, для этого объема будет посчитана прибыль. Наконец, будет произведена оценка оценка риска и прибыли для каждого региона."
   ]
  },
  {
   "cell_type": "markdown",
   "id": "cf00c8d2",
   "metadata": {},
   "source": [
    "## 1. Загрузка и предобработка данных"
   ]
  },
  {
   "cell_type": "markdown",
   "id": "ce77cc02",
   "metadata": {},
   "source": [
    "Для начала подключим необходимые в дальнейшей работе библиотеки:"
   ]
  },
  {
   "cell_type": "code",
   "execution_count": 47,
   "id": "c65fa72a",
   "metadata": {},
   "outputs": [],
   "source": [
    "import pandas as pd\n",
    "import numpy as np\n",
    "from sklearn.model_selection import train_test_split\n",
    "from sklearn.metrics import mean_squared_error\n",
    "from sklearn.linear_model import LinearRegression\n",
    "from scipy import stats as st"
   ]
  },
  {
   "cell_type": "markdown",
   "id": "a8cf248b",
   "metadata": {},
   "source": [
    "Теперь загрузим данные, необходимые для исследования:"
   ]
  },
  {
   "cell_type": "code",
   "execution_count": 48,
   "id": "bce7e911",
   "metadata": {},
   "outputs": [],
   "source": [
    "try:\n",
    "    geo_data_0 = pd.read_csv('geo_data_0.csv')\n",
    "except:\n",
    "    geo_data_0 = pd.read_csv('/datasets/geo_data_0.csv')\n",
    "    \n",
    "try:\n",
    "    geo_data_1 = pd.read_csv('geo_data_1.csv')\n",
    "except:\n",
    "    geo_data_1 = pd.read_csv('/datasets/geo_data_1.csv')\n",
    "    \n",
    "try:\n",
    "    geo_data_2 = pd.read_csv('geo_data_2.csv')\n",
    "except:\n",
    "    geo_data_2 = pd.read_csv('/datasets/geo_data_2.csv')"
   ]
  },
  {
   "cell_type": "markdown",
   "id": "bd0c8aeb",
   "metadata": {},
   "source": [
    "Проведем обзор первых 5 строчек каждого датафрейма:"
   ]
  },
  {
   "cell_type": "code",
   "execution_count": 49,
   "id": "3df41369",
   "metadata": {},
   "outputs": [
    {
     "data": {
      "text/plain": [
       "'geo_data_0:'"
      ]
     },
     "metadata": {},
     "output_type": "display_data"
    },
    {
     "data": {
      "text/html": [
       "<div>\n",
       "<style scoped>\n",
       "    .dataframe tbody tr th:only-of-type {\n",
       "        vertical-align: middle;\n",
       "    }\n",
       "\n",
       "    .dataframe tbody tr th {\n",
       "        vertical-align: top;\n",
       "    }\n",
       "\n",
       "    .dataframe thead th {\n",
       "        text-align: right;\n",
       "    }\n",
       "</style>\n",
       "<table border=\"1\" class=\"dataframe\">\n",
       "  <thead>\n",
       "    <tr style=\"text-align: right;\">\n",
       "      <th></th>\n",
       "      <th>id</th>\n",
       "      <th>f0</th>\n",
       "      <th>f1</th>\n",
       "      <th>f2</th>\n",
       "      <th>product</th>\n",
       "    </tr>\n",
       "  </thead>\n",
       "  <tbody>\n",
       "    <tr>\n",
       "      <th>0</th>\n",
       "      <td>txEyH</td>\n",
       "      <td>0.705745</td>\n",
       "      <td>-0.497823</td>\n",
       "      <td>1.221170</td>\n",
       "      <td>105.280062</td>\n",
       "    </tr>\n",
       "    <tr>\n",
       "      <th>1</th>\n",
       "      <td>2acmU</td>\n",
       "      <td>1.334711</td>\n",
       "      <td>-0.340164</td>\n",
       "      <td>4.365080</td>\n",
       "      <td>73.037750</td>\n",
       "    </tr>\n",
       "    <tr>\n",
       "      <th>2</th>\n",
       "      <td>409Wp</td>\n",
       "      <td>1.022732</td>\n",
       "      <td>0.151990</td>\n",
       "      <td>1.419926</td>\n",
       "      <td>85.265647</td>\n",
       "    </tr>\n",
       "    <tr>\n",
       "      <th>3</th>\n",
       "      <td>iJLyR</td>\n",
       "      <td>-0.032172</td>\n",
       "      <td>0.139033</td>\n",
       "      <td>2.978566</td>\n",
       "      <td>168.620776</td>\n",
       "    </tr>\n",
       "    <tr>\n",
       "      <th>4</th>\n",
       "      <td>Xdl7t</td>\n",
       "      <td>1.988431</td>\n",
       "      <td>0.155413</td>\n",
       "      <td>4.751769</td>\n",
       "      <td>154.036647</td>\n",
       "    </tr>\n",
       "  </tbody>\n",
       "</table>\n",
       "</div>"
      ],
      "text/plain": [
       "      id        f0        f1        f2     product\n",
       "0  txEyH  0.705745 -0.497823  1.221170  105.280062\n",
       "1  2acmU  1.334711 -0.340164  4.365080   73.037750\n",
       "2  409Wp  1.022732  0.151990  1.419926   85.265647\n",
       "3  iJLyR -0.032172  0.139033  2.978566  168.620776\n",
       "4  Xdl7t  1.988431  0.155413  4.751769  154.036647"
      ]
     },
     "metadata": {},
     "output_type": "display_data"
    },
    {
     "data": {
      "text/plain": [
       "'geo_data_1:'"
      ]
     },
     "metadata": {},
     "output_type": "display_data"
    },
    {
     "data": {
      "text/html": [
       "<div>\n",
       "<style scoped>\n",
       "    .dataframe tbody tr th:only-of-type {\n",
       "        vertical-align: middle;\n",
       "    }\n",
       "\n",
       "    .dataframe tbody tr th {\n",
       "        vertical-align: top;\n",
       "    }\n",
       "\n",
       "    .dataframe thead th {\n",
       "        text-align: right;\n",
       "    }\n",
       "</style>\n",
       "<table border=\"1\" class=\"dataframe\">\n",
       "  <thead>\n",
       "    <tr style=\"text-align: right;\">\n",
       "      <th></th>\n",
       "      <th>id</th>\n",
       "      <th>f0</th>\n",
       "      <th>f1</th>\n",
       "      <th>f2</th>\n",
       "      <th>product</th>\n",
       "    </tr>\n",
       "  </thead>\n",
       "  <tbody>\n",
       "    <tr>\n",
       "      <th>0</th>\n",
       "      <td>kBEdx</td>\n",
       "      <td>-15.001348</td>\n",
       "      <td>-8.276000</td>\n",
       "      <td>-0.005876</td>\n",
       "      <td>3.179103</td>\n",
       "    </tr>\n",
       "    <tr>\n",
       "      <th>1</th>\n",
       "      <td>62mP7</td>\n",
       "      <td>14.272088</td>\n",
       "      <td>-3.475083</td>\n",
       "      <td>0.999183</td>\n",
       "      <td>26.953261</td>\n",
       "    </tr>\n",
       "    <tr>\n",
       "      <th>2</th>\n",
       "      <td>vyE1P</td>\n",
       "      <td>6.263187</td>\n",
       "      <td>-5.948386</td>\n",
       "      <td>5.001160</td>\n",
       "      <td>134.766305</td>\n",
       "    </tr>\n",
       "    <tr>\n",
       "      <th>3</th>\n",
       "      <td>KcrkZ</td>\n",
       "      <td>-13.081196</td>\n",
       "      <td>-11.506057</td>\n",
       "      <td>4.999415</td>\n",
       "      <td>137.945408</td>\n",
       "    </tr>\n",
       "    <tr>\n",
       "      <th>4</th>\n",
       "      <td>AHL4O</td>\n",
       "      <td>12.702195</td>\n",
       "      <td>-8.147433</td>\n",
       "      <td>5.004363</td>\n",
       "      <td>134.766305</td>\n",
       "    </tr>\n",
       "  </tbody>\n",
       "</table>\n",
       "</div>"
      ],
      "text/plain": [
       "      id         f0         f1        f2     product\n",
       "0  kBEdx -15.001348  -8.276000 -0.005876    3.179103\n",
       "1  62mP7  14.272088  -3.475083  0.999183   26.953261\n",
       "2  vyE1P   6.263187  -5.948386  5.001160  134.766305\n",
       "3  KcrkZ -13.081196 -11.506057  4.999415  137.945408\n",
       "4  AHL4O  12.702195  -8.147433  5.004363  134.766305"
      ]
     },
     "metadata": {},
     "output_type": "display_data"
    },
    {
     "data": {
      "text/plain": [
       "'geo_data_2:'"
      ]
     },
     "metadata": {},
     "output_type": "display_data"
    },
    {
     "data": {
      "text/html": [
       "<div>\n",
       "<style scoped>\n",
       "    .dataframe tbody tr th:only-of-type {\n",
       "        vertical-align: middle;\n",
       "    }\n",
       "\n",
       "    .dataframe tbody tr th {\n",
       "        vertical-align: top;\n",
       "    }\n",
       "\n",
       "    .dataframe thead th {\n",
       "        text-align: right;\n",
       "    }\n",
       "</style>\n",
       "<table border=\"1\" class=\"dataframe\">\n",
       "  <thead>\n",
       "    <tr style=\"text-align: right;\">\n",
       "      <th></th>\n",
       "      <th>id</th>\n",
       "      <th>f0</th>\n",
       "      <th>f1</th>\n",
       "      <th>f2</th>\n",
       "      <th>product</th>\n",
       "    </tr>\n",
       "  </thead>\n",
       "  <tbody>\n",
       "    <tr>\n",
       "      <th>0</th>\n",
       "      <td>fwXo0</td>\n",
       "      <td>-1.146987</td>\n",
       "      <td>0.963328</td>\n",
       "      <td>-0.828965</td>\n",
       "      <td>27.758673</td>\n",
       "    </tr>\n",
       "    <tr>\n",
       "      <th>1</th>\n",
       "      <td>WJtFt</td>\n",
       "      <td>0.262778</td>\n",
       "      <td>0.269839</td>\n",
       "      <td>-2.530187</td>\n",
       "      <td>56.069697</td>\n",
       "    </tr>\n",
       "    <tr>\n",
       "      <th>2</th>\n",
       "      <td>ovLUW</td>\n",
       "      <td>0.194587</td>\n",
       "      <td>0.289035</td>\n",
       "      <td>-5.586433</td>\n",
       "      <td>62.871910</td>\n",
       "    </tr>\n",
       "    <tr>\n",
       "      <th>3</th>\n",
       "      <td>q6cA6</td>\n",
       "      <td>2.236060</td>\n",
       "      <td>-0.553760</td>\n",
       "      <td>0.930038</td>\n",
       "      <td>114.572842</td>\n",
       "    </tr>\n",
       "    <tr>\n",
       "      <th>4</th>\n",
       "      <td>WPMUX</td>\n",
       "      <td>-0.515993</td>\n",
       "      <td>1.716266</td>\n",
       "      <td>5.899011</td>\n",
       "      <td>149.600746</td>\n",
       "    </tr>\n",
       "  </tbody>\n",
       "</table>\n",
       "</div>"
      ],
      "text/plain": [
       "      id        f0        f1        f2     product\n",
       "0  fwXo0 -1.146987  0.963328 -0.828965   27.758673\n",
       "1  WJtFt  0.262778  0.269839 -2.530187   56.069697\n",
       "2  ovLUW  0.194587  0.289035 -5.586433   62.871910\n",
       "3  q6cA6  2.236060 -0.553760  0.930038  114.572842\n",
       "4  WPMUX -0.515993  1.716266  5.899011  149.600746"
      ]
     },
     "metadata": {},
     "output_type": "display_data"
    }
   ],
   "source": [
    "display('geo_data_0:', geo_data_0.head(), 'geo_data_1:', geo_data_1.head(), 'geo_data_2:', geo_data_2.head())"
   ]
  },
  {
   "cell_type": "markdown",
   "id": "bcd38a29",
   "metadata": {},
   "source": [
    "Удалим из каждого набора столбец 'id', так как он не несет в себе информации, необходимой для дальнейшего обучения модели линейной регрессии:"
   ]
  },
  {
   "cell_type": "code",
   "execution_count": 50,
   "id": "6292d541",
   "metadata": {},
   "outputs": [],
   "source": [
    "geo_data_0 = geo_data_0.drop('id', axis=1)\n",
    "geo_data_1 = geo_data_1.drop('id', axis=1)\n",
    "geo_data_2 = geo_data_2.drop('id', axis=1)"
   ]
  },
  {
   "cell_type": "markdown",
   "id": "54ebdb7a",
   "metadata": {},
   "source": [
    "Проверим данные на наличие пропусков, для чего посмотрим на общую информацию каждого из трех датасетов:"
   ]
  },
  {
   "cell_type": "code",
   "execution_count": 51,
   "id": "083fc575",
   "metadata": {},
   "outputs": [
    {
     "name": "stdout",
     "output_type": "stream",
     "text": [
      "<class 'pandas.core.frame.DataFrame'>\n",
      "RangeIndex: 100000 entries, 0 to 99999\n",
      "Data columns (total 4 columns):\n",
      " #   Column   Non-Null Count   Dtype  \n",
      "---  ------   --------------   -----  \n",
      " 0   f0       100000 non-null  float64\n",
      " 1   f1       100000 non-null  float64\n",
      " 2   f2       100000 non-null  float64\n",
      " 3   product  100000 non-null  float64\n",
      "dtypes: float64(4)\n",
      "memory usage: 3.1 MB\n",
      "<class 'pandas.core.frame.DataFrame'>\n",
      "RangeIndex: 100000 entries, 0 to 99999\n",
      "Data columns (total 4 columns):\n",
      " #   Column   Non-Null Count   Dtype  \n",
      "---  ------   --------------   -----  \n",
      " 0   f0       100000 non-null  float64\n",
      " 1   f1       100000 non-null  float64\n",
      " 2   f2       100000 non-null  float64\n",
      " 3   product  100000 non-null  float64\n",
      "dtypes: float64(4)\n",
      "memory usage: 3.1 MB\n",
      "<class 'pandas.core.frame.DataFrame'>\n",
      "RangeIndex: 100000 entries, 0 to 99999\n",
      "Data columns (total 4 columns):\n",
      " #   Column   Non-Null Count   Dtype  \n",
      "---  ------   --------------   -----  \n",
      " 0   f0       100000 non-null  float64\n",
      " 1   f1       100000 non-null  float64\n",
      " 2   f2       100000 non-null  float64\n",
      " 3   product  100000 non-null  float64\n",
      "dtypes: float64(4)\n",
      "memory usage: 3.1 MB\n"
     ]
    },
    {
     "data": {
      "text/plain": [
       "(None, None, None)"
      ]
     },
     "execution_count": 51,
     "metadata": {},
     "output_type": "execute_result"
    }
   ],
   "source": [
    "geo_data_0.info(), geo_data_1.info(), geo_data_2.info()"
   ]
  },
  {
   "cell_type": "markdown",
   "id": "fad6d647",
   "metadata": {},
   "source": [
    "Наконец, проверим данные на наличие дубликатов:"
   ]
  },
  {
   "cell_type": "code",
   "execution_count": 52,
   "id": "2a65526c",
   "metadata": {},
   "outputs": [
    {
     "name": "stdout",
     "output_type": "stream",
     "text": [
      "Дубликатов в geo_data_0 - 0 \n",
      "Дубликатов в geo_data_1 - 0 \n",
      "Дубликатов в geo_data_2 - 0\n"
     ]
    }
   ],
   "source": [
    "print('Дубликатов в geo_data_0 -', geo_data_0.duplicated().sum(), \\\n",
    "      '\\nДубликатов в geo_data_1 -', geo_data_1.duplicated().sum(), \\\n",
    "      '\\nДубликатов в geo_data_2 -', geo_data_2.duplicated().sum())"
   ]
  },
  {
   "cell_type": "markdown",
   "id": "cf1ac72e",
   "metadata": {},
   "source": [
    "Итак, мы удалили из данных неинформативный признак 'id', убедились в том, что они не содержат в себе пропусков и дубликатов - данные подготовлены для дальнейшей работы."
   ]
  },
  {
   "cell_type": "markdown",
   "id": "83fe2570",
   "metadata": {},
   "source": [
    "## 2. Обучение и проверка моделей"
   ]
  },
  {
   "cell_type": "markdown",
   "id": "1bb4f5fe",
   "metadata": {},
   "source": [
    "Напишем функцию, которая произведет разбивку данных на тренировочную и валидационную выборки, обучит модель линейной регрессии и сделает предсказание целевого признака на валидационном наборе. Возвращать функция будет предсказания вместе с правильными ответами. Для удобства дальнейшей работы переведем предсказания в Series и обновим индексы для целевого признака:"
   ]
  },
  {
   "cell_type": "code",
   "execution_count": 53,
   "id": "ec304871",
   "metadata": {},
   "outputs": [],
   "source": [
    "def predictor (df):\n",
    "    features = df.drop('product', axis=1)\n",
    "    target = df['product']\n",
    "\n",
    "    features_train, features_valid, target_train, target_valid = train_test_split(features.copy(), target.copy(), \n",
    "                                                                              test_size=0.25, random_state=12345)\n",
    "    model = LinearRegression()\n",
    "    model.fit(features_train, target_train)\n",
    "    \n",
    "    predicted_valid = model.predict(features_valid)\n",
    "    \n",
    "    return pd.Series(predicted_valid), target_valid.reset_index(drop=True)"
   ]
  },
  {
   "cell_type": "markdown",
   "id": "b62cb704",
   "metadata": {},
   "source": [
    "Для каждого региона **сохраним** предсказания и правильные ответы на валидационной выборке и выведем средний запас **предсказанного** сырья и RMSE модели:"
   ]
  },
  {
   "cell_type": "code",
   "execution_count": 54,
   "id": "e6c0155c",
   "metadata": {},
   "outputs": [
    {
     "name": "stdout",
     "output_type": "stream",
     "text": [
      "Средний запас предсказанного сырья в первом регионе равен 92.59256778438035, а RMSE модели - 37.5794217150813\n"
     ]
    }
   ],
   "source": [
    "predicted_valid_0, target_valid_0 = predictor(geo_data_0)\n",
    "print(f'Средний запас предсказанного сырья в первом регионе равен {predicted_valid_0.mean()}\\\n",
    ", а RMSE модели - {mean_squared_error(target_valid_0, predicted_valid_0) ** 0.5}')"
   ]
  },
  {
   "cell_type": "code",
   "execution_count": 55,
   "id": "3b930ea3",
   "metadata": {},
   "outputs": [
    {
     "name": "stdout",
     "output_type": "stream",
     "text": [
      "Средний запас предсказанного сырья во втором регионе равен 68.728546895446, а RMSE модели - 0.893099286775617\n"
     ]
    }
   ],
   "source": [
    "predicted_valid_1, target_valid_1 = predictor(geo_data_1)\n",
    "print(f'Средний запас предсказанного сырья во втором регионе равен {predicted_valid_1.mean()}\\\n",
    ", а RMSE модели - {mean_squared_error(target_valid_1, predicted_valid_1) ** 0.5}')"
   ]
  },
  {
   "cell_type": "code",
   "execution_count": 56,
   "id": "95243aa8",
   "metadata": {},
   "outputs": [
    {
     "name": "stdout",
     "output_type": "stream",
     "text": [
      "Средний запас предсказанного сырья в третьем регионе равен 94.96504596800489, а RMSE модели - 40.02970873393434\n"
     ]
    }
   ],
   "source": [
    "predicted_valid_2, target_valid_2 = predictor(geo_data_2)\n",
    "print(f'Средний запас предсказанного сырья в третьем регионе равен {predicted_valid_2.mean()}\\\n",
    ", а RMSE модели - {mean_squared_error(target_valid_2, predicted_valid_2) ** 0.5}')"
   ]
  },
  {
   "cell_type": "markdown",
   "id": "e7e5be78",
   "metadata": {},
   "source": [
    "Как видим, наименьший корень из среднеквадратичной ошибки получился у модели линейной регрессии, обученной на данных для второго региона, значение его составило 0.89. Средний предсказанный запас в этом регионе составил 68.73 тысяч баррелей на скважину. Низкое значение ошибки говорит о том, что среднее значение, вычисленное на предсказаниях модели не будет сильно отличаться от того же значения, посчитанного на реальных данных. То есть, предсказаниям модели для этого региона мы можем доверять больше, чем предсказаниям для первого и третьего регионов. "
   ]
  },
  {
   "cell_type": "markdown",
   "id": "b4b82bbe",
   "metadata": {},
   "source": [
    "## 3. Подготовка к расчету прибыли"
   ]
  },
  {
   "cell_type": "markdown",
   "id": "e2af6458",
   "metadata": {},
   "source": [
    "Проведем рассчет, чтобы найти достаточный объём сырья для безубыточной разработки новой скважины и сравним объём сырья со средним запасом в каждом регионе.  "
   ]
  },
  {
   "cell_type": "markdown",
   "id": "0c261fb6",
   "metadata": {},
   "source": [
    "Напомним себе условия бизнеса. Для разработки в регионе выбирают 200 лучших (по предсказанию моделей машинного обучения) скважин, бюджет на их разработку составляет 10 млрд рублей. Один баррель сырья приносит 450 рублей дохода, то есть, доход с каждой единицы продукта составляет 450 тыс. рублей (объём запасов в столбце 'product' указан в тысячах баррелей). Сохраним эти данные в отдельных переменных:"
   ]
  },
  {
   "cell_type": "code",
   "execution_count": 57,
   "id": "6cba56f4",
   "metadata": {},
   "outputs": [],
   "source": [
    "wells_to_develop = 200 # Скважин для разработки\n",
    "development_budget = 10000000000 # Бюджет на разработку\n",
    "income_per_barrel = 450 # Доход на баррель\n",
    "barrels_in_product_unit = 1000 # Баррелей на единицу продукта"
   ]
  },
  {
   "cell_type": "markdown",
   "id": "266efc38",
   "metadata": {},
   "source": [
    "Рассчитаем достаточный объём сырья для безубыточной разработки новой скважины. Для этого разделим общий бюджет на количество разрабатываемых скважин и на доход с одной единицы продукта (1000 баррелей). Таким образом узнаем, каков должен быть объем запасов в скважинах, чтобы наши расходы их разработку \"вышли в ноль\"."
   ]
  },
  {
   "cell_type": "code",
   "execution_count": 58,
   "id": "2d7222f2",
   "metadata": {},
   "outputs": [
    {
     "data": {
      "text/plain": [
       "111.11111111111111"
      ]
     },
     "execution_count": 58,
     "metadata": {},
     "output_type": "execute_result"
    }
   ],
   "source": [
    "enough_volume = development_budget / (wells_to_develop * income_per_barrel * barrels_in_product_unit)\n",
    "enough_volume"
   ]
  },
  {
   "cell_type": "markdown",
   "id": "222d80ce",
   "metadata": {},
   "source": [
    "Итак, по нашим расчетам, для безубыточной разработки объем сырья в скважине должен составлять 111 тысяч баррелей, что больше предсказанного моделью линейной регрессии **среднего** объема в каждом регионе. "
   ]
  },
  {
   "cell_type": "markdown",
   "id": "747fcf7b",
   "metadata": {},
   "source": [
    "На данном этапе, сохранив нужные для расчётов значения в соответствующих переменных, мы рассчитали минимальный объем сырья в скважине, позволяющий вести неубыточную разработку. В итоге вышло, что искомый объем составляет 111 тысяч баррелей, данная величина превосходит средние объемы для всех трех регионов, ближе всего к ней приближается первый регион, средний объем предсказанного на предыдущем этапе исследования сырья в котором составил 92 592 барреля."
   ]
  },
  {
   "cell_type": "markdown",
   "id": "28dabf6c",
   "metadata": {},
   "source": [
    "## 4. Написание функции для расчета прибыли"
   ]
  },
  {
   "cell_type": "markdown",
   "id": "a91b28e1",
   "metadata": {},
   "source": [
    "Для более удобного рассчета прибыли напишем функцию, которая на вход будет принимать предсказанный объем сырья в каждой из скважин и фактическое количество сырья в этих скважинах. Отсортируем предсказания в порядке убывания значений запасов продукта, выберем 200 наибольших значений, которые просуммируем и умножим на доход, получаемый с единицы продукта - так получим выручку. Чтобы вычислить прибыль, вычтем из выручки сумму, потраченную на разработку скважин. Необходимые значения получим из заранее созданным переменных:"
   ]
  },
  {
   "cell_type": "code",
   "execution_count": 59,
   "id": "392c04ad",
   "metadata": {},
   "outputs": [],
   "source": [
    "def profit_calculator (predictions, target):\n",
    "    \n",
    "    predictions_sorted = predictions.sort_values(ascending=False)\n",
    "    top_wells = target[predictions_sorted.index][:wells_to_develop]\n",
    "    top_wells_total_product = top_wells.sum()\n",
    "    \n",
    "    return top_wells_total_product * income_per_barrel * barrels_in_product_unit - development_budget"
   ]
  },
  {
   "cell_type": "markdown",
   "id": "f2518f8d",
   "metadata": {},
   "source": [
    "## 5. Подсчет рисков и прибыли"
   ]
  },
  {
   "cell_type": "markdown",
   "id": "f0c8eb3a",
   "metadata": {},
   "source": [
    "Напишем функцию, которая с помощью техники Bootstrap позволит нам определить среднюю прибыль, 95%-й доверительный интервал и риск убытков. Напишем функцию, принимающую на вход предсказанные объемы сырья в скважине и \"правильные ответы\". Далее с помощью цикла на 1000 итераций применим технику Bootstrap, посчитав для подвыборок размера 500 исходных датафреймов прибыль с помощью функции, написанной на прошлом шаге. После этого вычислим среднее значение всех прибылей, необходимый доверительный интервал и риски:"
   ]
  },
  {
   "cell_type": "code",
   "execution_count": 60,
   "id": "b9c26707",
   "metadata": {},
   "outputs": [],
   "source": [
    "def bootstrap (predictions, target): \n",
    "\n",
    "    state = np.random.RandomState(12345)\n",
    "\n",
    "    profits = []\n",
    "\n",
    "    for i in range(1000):\n",
    "    \n",
    "        subsample_target = target.sample(n=500, replace=True, random_state=state)\n",
    "        subsample_predicted = predictions[subsample_target.index]\n",
    "    \n",
    "        profits.append(profit_calculator(subsample_predicted, subsample_target))\n",
    "    \n",
    "    profits = pd.Series(profits)\n",
    "    \n",
    "    mean_profit = profits.mean()\n",
    "    confidence_interval_95 = st.t.interval(confidence=0.95, df=len(profits)-1, loc=profits.mean(), scale=profits.std())\n",
    "    loss_risk = profits[profits < 0].count() / len(profits) * 100\n",
    "    \n",
    "    return mean_profit, confidence_interval_95, loss_risk"
   ]
  },
  {
   "cell_type": "markdown",
   "id": "d99bebb2",
   "metadata": {},
   "source": [
    "Теперь выведем искомые значения, для удобства воспользовавшись циклом:"
   ]
  },
  {
   "cell_type": "code",
   "execution_count": 61,
   "id": "7a051191",
   "metadata": {},
   "outputs": [
    {
     "name": "stdout",
     "output_type": "stream",
     "text": [
      "Средняя прибыль для 1 региона - 425938526.91059244\n",
      "95%-й доверительный интервал - (-118173081.58673334, 970050135.4079182)\n",
      "Риск получить убытки - 6.0%\n",
      "\n",
      "Средняя прибыль для 2 региона - 515222773.4432898\n",
      "95%-й доверительный интервал - (85111988.47686392, 945333558.4097157)\n",
      "Риск получить убытки - 1.0%\n",
      "\n",
      "Средняя прибыль для 3 региона - 435008362.7827556\n",
      "95%-й доверительный интервал - (-120123495.57730567, 990140221.1428169)\n",
      "Риск получить убытки - 6.4%\n",
      "\n"
     ]
    }
   ],
   "source": [
    "pairs = [[predicted_valid_0, target_valid_0], [predicted_valid_1, target_valid_1], [predicted_valid_2, target_valid_2]]\n",
    "for i in range(3):\n",
    "    mean, confidence_interval, risk = bootstrap(pairs[i][0], pairs[i][1])\n",
    "    print(f'Средняя прибыль для {i + 1} региона - {mean}')\n",
    "    print(f'95%-й доверительный интервал - {confidence_interval}')\n",
    "    print(f'Риск получить убытки - {risk}%')\n",
    "    print()"
   ]
  },
  {
   "cell_type": "markdown",
   "id": "a424bd59",
   "metadata": {},
   "source": [
    "Как со всей очевидностью можно судить по выводу предыдущей ячейки, **лучший кандидат для разработки скважин - второй регион**. Он лидирует по всем трем позициям - обладает наивысшей средней прибылью (515 миллионов), его доверительный интервал содержит в себе наибольшие значения, причем, положительные (с вероятностью в 95% среднее значение прибыли от добычи в этом регионе составит от 85 до 945 миллионов), разработка скважин в нем несет в себе меньше всего рисков (1%, что в 6 раз меньше, чем в двух остальных регионах)."
   ]
  }
 ],
 "metadata": {
  "ExecuteTimeLog": [
   {
    "duration": 1265,
    "start_time": "2023-01-07T09:28:47.475Z"
   },
   {
    "duration": 774,
    "start_time": "2023-01-07T09:28:51.404Z"
   },
   {
    "duration": 30,
    "start_time": "2023-01-07T09:29:44.057Z"
   },
   {
    "duration": 16,
    "start_time": "2023-01-07T09:29:49.984Z"
   },
   {
    "duration": 23,
    "start_time": "2023-01-07T09:30:09.918Z"
   },
   {
    "duration": 63,
    "start_time": "2023-01-07T09:30:13.721Z"
   },
   {
    "duration": 4,
    "start_time": "2023-01-07T09:30:45.900Z"
   },
   {
    "duration": 24,
    "start_time": "2023-01-07T09:31:41.437Z"
   },
   {
    "duration": 20,
    "start_time": "2023-01-07T09:31:42.435Z"
   },
   {
    "duration": 20,
    "start_time": "2023-01-07T09:31:42.920Z"
   },
   {
    "duration": 3,
    "start_time": "2023-01-07T09:33:55.532Z"
   },
   {
    "duration": 3,
    "start_time": "2023-01-07T09:34:16.660Z"
   },
   {
    "duration": 3,
    "start_time": "2023-01-07T09:37:39.119Z"
   },
   {
    "duration": 4,
    "start_time": "2023-01-07T09:38:58.479Z"
   },
   {
    "duration": 3678,
    "start_time": "2023-01-07T09:39:36.624Z"
   },
   {
    "duration": 83,
    "start_time": "2023-01-07T10:31:09.291Z"
   },
   {
    "duration": 5,
    "start_time": "2023-01-07T10:32:55.086Z"
   },
   {
    "duration": 1348,
    "start_time": "2023-01-07T10:40:50.835Z"
   },
   {
    "duration": 1526,
    "start_time": "2023-01-07T10:40:52.186Z"
   },
   {
    "duration": 51,
    "start_time": "2023-01-07T10:40:53.713Z"
   },
   {
    "duration": 20,
    "start_time": "2023-01-07T10:40:53.769Z"
   },
   {
    "duration": 37,
    "start_time": "2023-01-07T10:40:53.790Z"
   },
   {
    "duration": 86,
    "start_time": "2023-01-07T10:40:53.829Z"
   },
   {
    "duration": 4,
    "start_time": "2023-01-07T10:40:53.918Z"
   },
   {
    "duration": 121,
    "start_time": "2023-01-07T10:40:53.935Z"
   },
   {
    "duration": 120,
    "start_time": "2023-01-07T10:40:54.062Z"
   },
   {
    "duration": 194,
    "start_time": "2023-01-07T10:40:54.186Z"
   },
   {
    "duration": 56,
    "start_time": "2023-01-07T10:40:54.384Z"
   },
   {
    "duration": 101,
    "start_time": "2023-01-07T10:40:54.442Z"
   },
   {
    "duration": 45,
    "start_time": "2023-01-07T10:40:54.546Z"
   },
   {
    "duration": 35,
    "start_time": "2023-01-07T10:40:54.593Z"
   },
   {
    "duration": 4604,
    "start_time": "2023-01-07T10:40:59.701Z"
   },
   {
    "duration": 6,
    "start_time": "2023-01-07T10:42:04.098Z"
   },
   {
    "duration": 4665,
    "start_time": "2023-01-07T10:42:10.552Z"
   },
   {
    "duration": 5,
    "start_time": "2023-01-07T10:42:33.410Z"
   },
   {
    "duration": 4643,
    "start_time": "2023-01-07T10:42:34.141Z"
   },
   {
    "duration": 3,
    "start_time": "2023-01-07T10:43:43.405Z"
   },
   {
    "duration": 606,
    "start_time": "2023-01-07T10:43:43.411Z"
   },
   {
    "duration": 42,
    "start_time": "2023-01-07T10:43:44.020Z"
   },
   {
    "duration": 21,
    "start_time": "2023-01-07T10:43:44.069Z"
   },
   {
    "duration": 41,
    "start_time": "2023-01-07T10:43:44.092Z"
   },
   {
    "duration": 85,
    "start_time": "2023-01-07T10:43:44.135Z"
   },
   {
    "duration": 25,
    "start_time": "2023-01-07T10:43:44.222Z"
   },
   {
    "duration": 64,
    "start_time": "2023-01-07T10:43:44.249Z"
   },
   {
    "duration": 155,
    "start_time": "2023-01-07T10:43:44.316Z"
   },
   {
    "duration": 205,
    "start_time": "2023-01-07T10:43:44.473Z"
   },
   {
    "duration": 67,
    "start_time": "2023-01-07T10:43:44.681Z"
   },
   {
    "duration": 37,
    "start_time": "2023-01-07T10:43:44.750Z"
   },
   {
    "duration": 23,
    "start_time": "2023-01-07T10:43:44.789Z"
   },
   {
    "duration": 68,
    "start_time": "2023-01-07T10:43:44.813Z"
   },
   {
    "duration": 4809,
    "start_time": "2023-01-07T10:43:44.882Z"
   },
   {
    "duration": 6,
    "start_time": "2023-01-07T10:45:15.156Z"
   },
   {
    "duration": 589,
    "start_time": "2023-01-07T10:45:15.166Z"
   },
   {
    "duration": 33,
    "start_time": "2023-01-07T10:45:15.765Z"
   },
   {
    "duration": 13,
    "start_time": "2023-01-07T10:45:15.800Z"
   },
   {
    "duration": 36,
    "start_time": "2023-01-07T10:45:15.815Z"
   },
   {
    "duration": 100,
    "start_time": "2023-01-07T10:45:15.853Z"
   },
   {
    "duration": 13,
    "start_time": "2023-01-07T10:45:15.954Z"
   },
   {
    "duration": 50,
    "start_time": "2023-01-07T10:45:15.969Z"
   },
   {
    "duration": 120,
    "start_time": "2023-01-07T10:45:16.061Z"
   },
   {
    "duration": 189,
    "start_time": "2023-01-07T10:45:16.184Z"
   },
   {
    "duration": 4,
    "start_time": "2023-01-07T10:45:16.378Z"
   },
   {
    "duration": 11,
    "start_time": "2023-01-07T10:45:16.455Z"
   },
   {
    "duration": 72,
    "start_time": "2023-01-07T10:45:16.475Z"
   },
   {
    "duration": 38,
    "start_time": "2023-01-07T10:45:16.549Z"
   },
   {
    "duration": 4694,
    "start_time": "2023-01-07T10:45:16.589Z"
   },
   {
    "duration": 10,
    "start_time": "2023-01-07T17:32:07.708Z"
   },
   {
    "duration": 1168,
    "start_time": "2023-01-07T17:32:17.384Z"
   },
   {
    "duration": 1714,
    "start_time": "2023-01-07T17:32:18.554Z"
   },
   {
    "duration": 29,
    "start_time": "2023-01-07T17:32:20.270Z"
   },
   {
    "duration": 15,
    "start_time": "2023-01-07T17:32:20.302Z"
   },
   {
    "duration": 28,
    "start_time": "2023-01-07T17:32:20.319Z"
   },
   {
    "duration": 93,
    "start_time": "2023-01-07T17:32:20.349Z"
   },
   {
    "duration": 3,
    "start_time": "2023-01-07T17:32:20.444Z"
   },
   {
    "duration": 41,
    "start_time": "2023-01-07T17:32:20.449Z"
   },
   {
    "duration": 195,
    "start_time": "2023-01-07T17:32:20.493Z"
   },
   {
    "duration": 198,
    "start_time": "2023-01-07T17:32:20.690Z"
   },
   {
    "duration": 2,
    "start_time": "2023-01-07T17:32:20.890Z"
   },
   {
    "duration": 194,
    "start_time": "2023-01-07T17:32:20.894Z"
   },
   {
    "duration": 6,
    "start_time": "2023-01-07T17:32:21.090Z"
   },
   {
    "duration": 9,
    "start_time": "2023-01-07T17:32:21.098Z"
   },
   {
    "duration": 3788,
    "start_time": "2023-01-07T17:32:21.108Z"
   },
   {
    "duration": 3,
    "start_time": "2023-01-07T17:33:35.639Z"
   },
   {
    "duration": 485,
    "start_time": "2023-01-07T17:33:35.651Z"
   },
   {
    "duration": 40,
    "start_time": "2023-01-07T17:33:36.138Z"
   },
   {
    "duration": 14,
    "start_time": "2023-01-07T17:33:36.179Z"
   },
   {
    "duration": 26,
    "start_time": "2023-01-07T17:33:36.195Z"
   },
   {
    "duration": 89,
    "start_time": "2023-01-07T17:33:36.222Z"
   },
   {
    "duration": 4,
    "start_time": "2023-01-07T17:33:36.312Z"
   },
   {
    "duration": 69,
    "start_time": "2023-01-07T17:33:36.317Z"
   },
   {
    "duration": 113,
    "start_time": "2023-01-07T17:33:36.388Z"
   },
   {
    "duration": 181,
    "start_time": "2023-01-07T17:33:36.504Z"
   },
   {
    "duration": 193,
    "start_time": "2023-01-07T17:33:36.688Z"
   },
   {
    "duration": 12,
    "start_time": "2023-01-07T17:33:36.882Z"
   },
   {
    "duration": 5,
    "start_time": "2023-01-07T17:33:36.896Z"
   },
   {
    "duration": 6,
    "start_time": "2023-01-07T17:33:36.903Z"
   },
   {
    "duration": 3822,
    "start_time": "2023-01-07T17:33:36.911Z"
   },
   {
    "duration": 3,
    "start_time": "2023-01-07T17:37:42.014Z"
   },
   {
    "duration": 510,
    "start_time": "2023-01-07T17:37:42.025Z"
   },
   {
    "duration": 41,
    "start_time": "2023-01-07T17:37:42.537Z"
   },
   {
    "duration": 17,
    "start_time": "2023-01-07T17:37:42.580Z"
   },
   {
    "duration": 30,
    "start_time": "2023-01-07T17:37:42.599Z"
   },
   {
    "duration": 89,
    "start_time": "2023-01-07T17:37:42.631Z"
   },
   {
    "duration": 4,
    "start_time": "2023-01-07T17:37:42.721Z"
   },
   {
    "duration": 58,
    "start_time": "2023-01-07T17:37:42.726Z"
   },
   {
    "duration": 114,
    "start_time": "2023-01-07T17:37:42.785Z"
   },
   {
    "duration": 113,
    "start_time": "2023-01-07T17:37:42.977Z"
   },
   {
    "duration": 3,
    "start_time": "2023-01-07T17:37:43.093Z"
   },
   {
    "duration": 109,
    "start_time": "2023-01-07T17:37:43.177Z"
   },
   {
    "duration": 11,
    "start_time": "2023-01-07T17:37:43.288Z"
   },
   {
    "duration": 12,
    "start_time": "2023-01-07T17:37:43.301Z"
   },
   {
    "duration": 3864,
    "start_time": "2023-01-07T17:37:43.314Z"
   },
   {
    "duration": 3,
    "start_time": "2023-01-07T17:38:34.718Z"
   },
   {
    "duration": 474,
    "start_time": "2023-01-07T17:38:34.725Z"
   },
   {
    "duration": 21,
    "start_time": "2023-01-07T17:38:35.201Z"
   },
   {
    "duration": 13,
    "start_time": "2023-01-07T17:38:35.223Z"
   },
   {
    "duration": 40,
    "start_time": "2023-01-07T17:38:35.239Z"
   },
   {
    "duration": 65,
    "start_time": "2023-01-07T17:38:35.281Z"
   },
   {
    "duration": 4,
    "start_time": "2023-01-07T17:38:35.348Z"
   },
   {
    "duration": 36,
    "start_time": "2023-01-07T17:38:35.353Z"
   },
   {
    "duration": 191,
    "start_time": "2023-01-07T17:38:35.391Z"
   },
   {
    "duration": 223,
    "start_time": "2023-01-07T17:38:35.584Z"
   },
   {
    "duration": 70,
    "start_time": "2023-01-07T17:38:35.810Z"
   },
   {
    "duration": 115,
    "start_time": "2023-01-07T17:38:35.881Z"
   },
   {
    "duration": 28,
    "start_time": "2023-01-07T17:38:35.998Z"
   },
   {
    "duration": 18,
    "start_time": "2023-01-07T17:38:36.028Z"
   },
   {
    "duration": 3708,
    "start_time": "2023-01-07T17:38:36.048Z"
   }
  ],
  "kernelspec": {
   "display_name": "Python 3 (ipykernel)",
   "language": "python",
   "name": "python3"
  },
  "language_info": {
   "codemirror_mode": {
    "name": "ipython",
    "version": 3
   },
   "file_extension": ".py",
   "mimetype": "text/x-python",
   "name": "python",
   "nbconvert_exporter": "python",
   "pygments_lexer": "ipython3",
   "version": "3.9.13"
  },
  "toc": {
   "base_numbering": 1,
   "nav_menu": {},
   "number_sections": true,
   "sideBar": true,
   "skip_h1_title": true,
   "title_cell": "Table of Contents",
   "title_sidebar": "Contents",
   "toc_cell": false,
   "toc_position": {},
   "toc_section_display": true,
   "toc_window_display": false
  }
 },
 "nbformat": 4,
 "nbformat_minor": 5
}
